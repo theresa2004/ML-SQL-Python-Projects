{
 "cells": [
  {
   "cell_type": "code",
   "execution_count": 1,
   "id": "640e5a1b-739a-44d7-92fe-1b3358117b44",
   "metadata": {},
   "outputs": [],
   "source": [
    "class BankAccount:\n",
    "    def __init__(self, account_number, holder_name, balance=0):\n",
    "        self.account_number = account_number\n",
    "        self.holder_name = holder_name\n",
    "        self.balance = balance\n",
    "    def deposit(self, amount):\n",
    "        if amount > 0:\n",
    "            self.balance += amount\n",
    "            print(f\"₹{amount} deposited. New balance: ₹{self.balance}\")\n",
    "        else:\n",
    "            print(\"Enter a valid deposit amount.\")\n",
    "    def withdraw(self, amount):\n",
    "        if 0 < amount <= self.balance:\n",
    "            self.balance -= amount\n",
    "            print(f\"₹{amount} withdrawn. New balance: ₹{self.balance}\")\n",
    "        else:\n",
    "            print(\"Insufficient balance or invalid amount.\")\n",
    "    def display(self):\n",
    "        print(\"\\nAccount Details:\")\n",
    "        print(f\"Account Number: {self.account_number}\")\n",
    "        print(f\"Holder Name: {self.holder_name}\")\n",
    "        print(f\"Balance: ₹{self.balance}\")"
   ]
  },
  {
   "cell_type": "code",
   "execution_count": 2,
   "id": "496cbd53-0ab0-4663-a6a6-cf529006d83c",
   "metadata": {},
   "outputs": [
    {
     "name": "stdout",
     "output_type": "stream",
     "text": [
      "Enter Account Number:  10567\n",
      "Enter Account Holder Name:  marco\n"
     ]
    },
    {
     "name": "stdout",
     "output_type": "stream",
     "text": [
      "\n",
      "Choose an option:\n",
      "1. Deposit Money\n",
      "2. Withdraw Money\n",
      "3. Display Account Details\n",
      "4. Exit\n"
     ]
    },
    {
     "name": "stdout",
     "output_type": "stream",
     "text": [
      "Enter your choice (1-4):  2\n",
      "Enter withdrawal amount:  3000\n"
     ]
    },
    {
     "name": "stdout",
     "output_type": "stream",
     "text": [
      "Insufficient balance or invalid amount.\n",
      "\n",
      "Choose an option:\n",
      "1. Deposit Money\n",
      "2. Withdraw Money\n",
      "3. Display Account Details\n",
      "4. Exit\n"
     ]
    },
    {
     "name": "stdout",
     "output_type": "stream",
     "text": [
      "Enter your choice (1-4):  3\n"
     ]
    },
    {
     "name": "stdout",
     "output_type": "stream",
     "text": [
      "\n",
      "Account Details:\n",
      "Account Number: 10567\n",
      "Holder Name: marco\n",
      "Balance: ₹0\n",
      "\n",
      "Choose an option:\n",
      "1. Deposit Money\n",
      "2. Withdraw Money\n",
      "3. Display Account Details\n",
      "4. Exit\n"
     ]
    },
    {
     "name": "stdout",
     "output_type": "stream",
     "text": [
      "Enter your choice (1-4):  1\n",
      "Enter deposit amount:  10000\n"
     ]
    },
    {
     "name": "stdout",
     "output_type": "stream",
     "text": [
      "₹10000.0 deposited. New balance: ₹10000.0\n",
      "\n",
      "Choose an option:\n",
      "1. Deposit Money\n",
      "2. Withdraw Money\n",
      "3. Display Account Details\n",
      "4. Exit\n"
     ]
    },
    {
     "name": "stdout",
     "output_type": "stream",
     "text": [
      "Enter your choice (1-4):  3\n"
     ]
    },
    {
     "name": "stdout",
     "output_type": "stream",
     "text": [
      "\n",
      "Account Details:\n",
      "Account Number: 10567\n",
      "Holder Name: marco\n",
      "Balance: ₹10000.0\n",
      "\n",
      "Choose an option:\n",
      "1. Deposit Money\n",
      "2. Withdraw Money\n",
      "3. Display Account Details\n",
      "4. Exit\n"
     ]
    },
    {
     "name": "stdout",
     "output_type": "stream",
     "text": [
      "Enter your choice (1-4):  4\n"
     ]
    },
    {
     "name": "stdout",
     "output_type": "stream",
     "text": [
      "Thank you! Exiting...\n"
     ]
    }
   ],
   "source": [
    "# Create account\n",
    "acc_num = input(\"Enter Account Number: \")\n",
    "holder_name = input(\"Enter Account Holder Name: \")\n",
    "account = BankAccount(acc_num, holder_name)\n",
    "\n",
    "while True:\n",
    "    print(\"\\nChoose an option:\")\n",
    "    print(\"1. Deposit Money\")\n",
    "    print(\"2. Withdraw Money\")\n",
    "    print(\"3. Display Account Details\")\n",
    "    print(\"4. Exit\")\n",
    "    \n",
    "    choice = input(\"Enter your choice (1-4): \")\n",
    "\n",
    "    if choice == \"1\":\n",
    "        amount = float(input(\"Enter deposit amount: \"))\n",
    "        account.deposit(amount)\n",
    "    \n",
    "    elif choice == \"2\":\n",
    "        amount = float(input(\"Enter withdrawal amount: \"))\n",
    "        account.withdraw(amount)\n",
    "\n",
    "    elif choice == \"3\":\n",
    "        account.display()\n",
    "    \n",
    "    elif choice == \"4\":\n",
    "        print(\"Thank you! Exiting...\")\n",
    "        break\n",
    "\n",
    "    else:\n",
    "        print(\"Invalid choice! Try again.\")\n"
   ]
  },
  {
   "cell_type": "code",
   "execution_count": null,
   "id": "ec663b34-2690-4355-81ff-30944502a015",
   "metadata": {},
   "outputs": [],
   "source": [
    "#https://drive.google.com/file/d/1SIexLQD8qSmJ3H1RGU6uvwQbTTuOxRCH/view?usp=sharing"
   ]
  }
 ],
 "metadata": {
  "kernelspec": {
   "display_name": "Python 3 (ipykernel)",
   "language": "python",
   "name": "python3"
  },
  "language_info": {
   "codemirror_mode": {
    "name": "ipython",
    "version": 3
   },
   "file_extension": ".py",
   "mimetype": "text/x-python",
   "name": "python",
   "nbconvert_exporter": "python",
   "pygments_lexer": "ipython3",
   "version": "3.12.8"
  }
 },
 "nbformat": 4,
 "nbformat_minor": 5
}
